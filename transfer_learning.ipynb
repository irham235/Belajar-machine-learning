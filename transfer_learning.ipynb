{
  "nbformat": 4,
  "nbformat_minor": 0,
  "metadata": {
    "colab": {
      "provenance": [],
      "gpuType": "T4",
      "authorship_tag": "ABX9TyNsi2pVFSPkCseiudPGGvRH",
      "include_colab_link": true
    },
    "kernelspec": {
      "name": "python3",
      "display_name": "Python 3"
    },
    "language_info": {
      "name": "python"
    },
    "accelerator": "GPU"
  },
  "cells": [
    {
      "cell_type": "markdown",
      "metadata": {
        "id": "view-in-github",
        "colab_type": "text"
      },
      "source": [
        "<a href=\"https://colab.research.google.com/github/irham235/Belajar-machine-learning/blob/main/transfer_learning.ipynb\" target=\"_parent\"><img src=\"https://colab.research.google.com/assets/colab-badge.svg\" alt=\"Open In Colab\"/></a>"
      ]
    },
    {
      "cell_type": "code",
      "execution_count": 1,
      "metadata": {
        "colab": {
          "base_uri": "https://localhost:8080/"
        },
        "id": "EmdLxi_eHZzQ",
        "outputId": "ed1e79d2-e5b1-4e6f-997f-a9842116a1dc"
      },
      "outputs": [
        {
          "output_type": "stream",
          "name": "stdout",
          "text": [
            "--2023-12-31 13:44:12--  https://github.com/dicodingacademy/assets/raw/main/ml_pengembangan_academy/Chessman-image-dataset.zip\n",
            "Resolving github.com (github.com)... 140.82.121.4\n",
            "Connecting to github.com (github.com)|140.82.121.4|:443... connected.\n",
            "HTTP request sent, awaiting response... 302 Found\n",
            "Location: https://raw.githubusercontent.com/dicodingacademy/assets/main/ml_pengembangan_academy/Chessman-image-dataset.zip [following]\n",
            "--2023-12-31 13:44:12--  https://raw.githubusercontent.com/dicodingacademy/assets/main/ml_pengembangan_academy/Chessman-image-dataset.zip\n",
            "Resolving raw.githubusercontent.com (raw.githubusercontent.com)... 185.199.111.133, 185.199.108.133, 185.199.110.133, ...\n",
            "Connecting to raw.githubusercontent.com (raw.githubusercontent.com)|185.199.111.133|:443... connected.\n",
            "HTTP request sent, awaiting response... 200 OK\n",
            "Length: 60684125 (58M) [application/zip]\n",
            "Saving to: ‘/tmp/Chessman-image-dataset.zip’\n",
            "\n",
            "/tmp/Chessman-image 100%[===================>]  57.87M   270MB/s    in 0.2s    \n",
            "\n",
            "2023-12-31 13:44:14 (270 MB/s) - ‘/tmp/Chessman-image-dataset.zip’ saved [60684125/60684125]\n",
            "\n"
          ]
        }
      ],
      "source": [
        "!wget --no-check-certificate \\\n",
        "  https://github.com/dicodingacademy/assets/raw/main/ml_pengembangan_academy/Chessman-image-dataset.zip \\\n",
        "  -O /tmp/Chessman-image-dataset.zip"
      ]
    },
    {
      "cell_type": "code",
      "source": [
        "import os\n",
        "import zipfile\n",
        "from tensorflow.keras.preprocessing.image import ImageDataGenerator\n",
        "local_zip = '/tmp/Chessman-image-dataset.zip'\n",
        "zip_ref = zipfile.ZipFile(local_zip, 'r')\n",
        "zip_ref.extractall('/tmp')\n",
        "zip_ref.close()\n",
        "train_dir = os.path.join('/tmp/Chessman-image-dataset/Chess')\n",
        "train_datagen = ImageDataGenerator(rescale=1./255,\n",
        "    rotation_range=20,\n",
        "    zoom_range=0.2,\n",
        "    shear_range=0.2,\n",
        "    fill_mode = 'nearest',\n",
        "    validation_split=0.1) # set validation split"
      ],
      "metadata": {
        "id": "Py-mHCqRHyBD"
      },
      "execution_count": 2,
      "outputs": []
    },
    {
      "cell_type": "markdown",
      "source": [
        "Bagi dataset menjadi data training dan data validasi."
      ],
      "metadata": {
        "id": "P8UXK2G0H0ox"
      }
    },
    {
      "cell_type": "code",
      "source": [
        "train_generator = train_datagen.flow_from_directory(\n",
        "    train_dir,\n",
        "    target_size=(150, 150),\n",
        "    batch_size=8,\n",
        "    class_mode='categorical',\n",
        "    subset='training') # set as training data\n",
        "validation_generator = train_datagen.flow_from_directory(\n",
        "    train_dir, # same directory as training data\n",
        "    target_size=(150, 150),\n",
        "    batch_size=16,\n",
        "    class_mode='categorical',\n",
        "    subset='validation')"
      ],
      "metadata": {
        "colab": {
          "base_uri": "https://localhost:8080/"
        },
        "id": "bRZunG0_H1dY",
        "outputId": "c8bff7ad-ee5d-4bef-8695-90d3cddcf45f"
      },
      "execution_count": 3,
      "outputs": [
        {
          "output_type": "stream",
          "name": "stdout",
          "text": [
            "Found 499 images belonging to 6 classes.\n",
            "Found 52 images belonging to 6 classes.\n"
          ]
        }
      ]
    },
    {
      "cell_type": "markdown",
      "source": [
        "Nah, disini kita mulai mengimplementasikan transfer learning. Untuk model yang kita pilih sebagai model dasar transfer learning adalah ResNet152V2. Model ResNet152V2 memiliki sebanyak 152 layer dan tersedia di library keras. Kita dapat memanfaatkan fitur-fitur yang telah dipelajari oleh model tersebut untuk dipakai model kita"
      ],
      "metadata": {
        "id": "e_ZoAqz0ICml"
      }
    },
    {
      "cell_type": "markdown",
      "source": [
        "Untuk mengimplementasikan transfer learning sangatlah mudah seperti kode di bawah. Kita hanya perlu menambahkan 2 buah baris kode berbeda. Layer pertama pada model kita adalah model yang kita pakai untuk transfer learning. Kita cukup memanggil kelas ResNet152V2 dan mengisi parameter sebagai berikut:\n",
        "\n",
        "Weight : ini adalah bobot atau parameter seperti yang telah dibahas pada kelas machine learning pemula. Untuk parameter weight kita mengisi nilai ‘imagenet’. Artinya kita ingin menggunakan model ResNet152V2 yang telah dilatih pada dataset imagenet. Imagenet adalah sebuah database raksasa yang berisi lebih dari 14 juta gambar.\n",
        "Include_top : parameter ini bernilai boolean. Maksud dari parameter ini apabila kita ingin tetap memakai layer terakhir/layer prediksi dari model resnet. Kita isi false karena kita memakai model resnet untuk memprediksi dataset chessman bukan imagenet.\n",
        "Input_tensor : sesuai namanya parameter ini menspesifikasikan ukuran dari input."
      ],
      "metadata": {
        "id": "g2X4TqXKIDoI"
      }
    },
    {
      "cell_type": "code",
      "source": [
        "import tensorflow as tf\n",
        "from tensorflow.keras.layers import Input\n",
        "from tensorflow.keras.applications import ResNet50\n",
        "from tensorflow.keras.applications import ResNet152V2\n",
        "model = tf.keras.models.Sequential([\n",
        "    ResNet152V2(weights=\"imagenet\", include_top=False, input_tensor=Input(shape=(150, 150, 3))),\n",
        "    # tf.keras.layers.Dropout(0.4),\n",
        "    tf.keras.layers.Flatten(),\n",
        "    tf.keras.layers.Dense(512, activation='relu'),\n",
        "    tf.keras.layers.Dense(256, activation='relu'),\n",
        "    tf.keras.layers.Dense(6, activation='softmax')\n",
        "])\n",
        "model.layers[0].trainable = False"
      ],
      "metadata": {
        "colab": {
          "base_uri": "https://localhost:8080/"
        },
        "id": "-e4UrgiXIGVG",
        "outputId": "147bc59e-b202-4c4b-e157-e4456b2c34d7"
      },
      "execution_count": 4,
      "outputs": [
        {
          "output_type": "stream",
          "name": "stdout",
          "text": [
            "Downloading data from https://storage.googleapis.com/tensorflow/keras-applications/resnet/resnet152v2_weights_tf_dim_ordering_tf_kernels_notop.h5\n",
            "234545216/234545216 [==============================] - 7s 0us/step\n"
          ]
        }
      ]
    },
    {
      "cell_type": "markdown",
      "source": [
        "Lanjutkan dengan menentukan optimizer, loss, serta metrik yang ingin digunakan pada model."
      ],
      "metadata": {
        "id": "FOgh0XvNIQsv"
      }
    },
    {
      "cell_type": "code",
      "source": [
        "model.compile(optimizer=tf.optimizers.Adam(),\n",
        "              loss='categorical_crossentropy',\n",
        "              metrics = ['accuracy'])"
      ],
      "metadata": {
        "id": "EM33rWcGISJ6"
      },
      "execution_count": 5,
      "outputs": []
    },
    {
      "cell_type": "code",
      "source": [
        "history = model.fit(train_generator,\n",
        "                              validation_data=validation_generator,\n",
        "                              epochs=50,\n",
        "                              verbose=2)"
      ],
      "metadata": {
        "colab": {
          "base_uri": "https://localhost:8080/"
        },
        "id": "LWADaCN1IVyA",
        "outputId": "f588f315-41c0-453a-ef57-2fc6182e8d95"
      },
      "execution_count": 6,
      "outputs": [
        {
          "output_type": "stream",
          "name": "stdout",
          "text": [
            "Epoch 1/50\n",
            "63/63 - 27s - loss: 9.0946 - accuracy: 0.4689 - val_loss: 3.5913 - val_accuracy: 0.6154 - 27s/epoch - 421ms/step\n",
            "Epoch 2/50\n",
            "63/63 - 8s - loss: 1.6691 - accuracy: 0.7234 - val_loss: 1.8330 - val_accuracy: 0.6731 - 8s/epoch - 125ms/step\n",
            "Epoch 3/50\n",
            "63/63 - 9s - loss: 1.6096 - accuracy: 0.7134 - val_loss: 1.4299 - val_accuracy: 0.7692 - 9s/epoch - 150ms/step\n",
            "Epoch 4/50\n",
            "63/63 - 9s - loss: 1.3768 - accuracy: 0.7816 - val_loss: 1.4588 - val_accuracy: 0.6346 - 9s/epoch - 145ms/step\n",
            "Epoch 5/50\n",
            "63/63 - 8s - loss: 0.9721 - accuracy: 0.8156 - val_loss: 1.2403 - val_accuracy: 0.7500 - 8s/epoch - 124ms/step\n",
            "Epoch 6/50\n",
            "63/63 - 9s - loss: 0.6545 - accuracy: 0.8557 - val_loss: 1.2523 - val_accuracy: 0.6731 - 9s/epoch - 145ms/step\n",
            "Epoch 7/50\n",
            "63/63 - 9s - loss: 0.7259 - accuracy: 0.8317 - val_loss: 2.0368 - val_accuracy: 0.6923 - 9s/epoch - 144ms/step\n",
            "Epoch 8/50\n",
            "63/63 - 8s - loss: 0.7470 - accuracy: 0.8537 - val_loss: 2.6609 - val_accuracy: 0.6731 - 8s/epoch - 127ms/step\n",
            "Epoch 9/50\n",
            "63/63 - 9s - loss: 0.8910 - accuracy: 0.8637 - val_loss: 1.9431 - val_accuracy: 0.6923 - 9s/epoch - 142ms/step\n",
            "Epoch 10/50\n",
            "63/63 - 9s - loss: 0.5370 - accuracy: 0.8798 - val_loss: 1.2791 - val_accuracy: 0.7500 - 9s/epoch - 146ms/step\n",
            "Epoch 11/50\n",
            "63/63 - 8s - loss: 0.5398 - accuracy: 0.8958 - val_loss: 0.9667 - val_accuracy: 0.7308 - 8s/epoch - 133ms/step\n",
            "Epoch 12/50\n",
            "63/63 - 9s - loss: 0.2899 - accuracy: 0.9279 - val_loss: 0.9038 - val_accuracy: 0.8077 - 9s/epoch - 138ms/step\n",
            "Epoch 13/50\n",
            "63/63 - 10s - loss: 0.2600 - accuracy: 0.9479 - val_loss: 1.5975 - val_accuracy: 0.7115 - 10s/epoch - 164ms/step\n",
            "Epoch 14/50\n",
            "63/63 - 8s - loss: 0.5555 - accuracy: 0.9038 - val_loss: 0.8548 - val_accuracy: 0.7885 - 8s/epoch - 126ms/step\n",
            "Epoch 15/50\n",
            "63/63 - 9s - loss: 0.4458 - accuracy: 0.9098 - val_loss: 0.5400 - val_accuracy: 0.8077 - 9s/epoch - 145ms/step\n",
            "Epoch 16/50\n",
            "63/63 - 10s - loss: 0.3340 - accuracy: 0.9319 - val_loss: 0.7580 - val_accuracy: 0.8462 - 10s/epoch - 151ms/step\n",
            "Epoch 17/50\n",
            "63/63 - 8s - loss: 0.4026 - accuracy: 0.9299 - val_loss: 1.8897 - val_accuracy: 0.7308 - 8s/epoch - 129ms/step\n",
            "Epoch 18/50\n",
            "63/63 - 8s - loss: 0.3962 - accuracy: 0.9158 - val_loss: 1.6438 - val_accuracy: 0.6538 - 8s/epoch - 124ms/step\n",
            "Epoch 19/50\n",
            "63/63 - 10s - loss: 0.2515 - accuracy: 0.9419 - val_loss: 1.2111 - val_accuracy: 0.8462 - 10s/epoch - 153ms/step\n",
            "Epoch 20/50\n",
            "63/63 - 9s - loss: 0.2773 - accuracy: 0.9439 - val_loss: 1.7821 - val_accuracy: 0.6731 - 9s/epoch - 142ms/step\n",
            "Epoch 21/50\n",
            "63/63 - 8s - loss: 0.2556 - accuracy: 0.9459 - val_loss: 0.9085 - val_accuracy: 0.7692 - 8s/epoch - 124ms/step\n",
            "Epoch 22/50\n",
            "63/63 - 9s - loss: 0.3192 - accuracy: 0.9339 - val_loss: 1.7738 - val_accuracy: 0.7692 - 9s/epoch - 140ms/step\n",
            "Epoch 23/50\n",
            "63/63 - 9s - loss: 0.3332 - accuracy: 0.9259 - val_loss: 0.3940 - val_accuracy: 0.8654 - 9s/epoch - 144ms/step\n",
            "Epoch 24/50\n",
            "63/63 - 8s - loss: 0.3867 - accuracy: 0.9259 - val_loss: 1.0349 - val_accuracy: 0.7692 - 8s/epoch - 124ms/step\n",
            "Epoch 25/50\n",
            "63/63 - 9s - loss: 0.5498 - accuracy: 0.9319 - val_loss: 2.4456 - val_accuracy: 0.7115 - 9s/epoch - 141ms/step\n",
            "Epoch 26/50\n",
            "63/63 - 9s - loss: 0.2649 - accuracy: 0.9439 - val_loss: 0.9159 - val_accuracy: 0.7692 - 9s/epoch - 141ms/step\n",
            "Epoch 27/50\n",
            "63/63 - 8s - loss: 0.3324 - accuracy: 0.9299 - val_loss: 1.3604 - val_accuracy: 0.7692 - 8s/epoch - 123ms/step\n",
            "Epoch 28/50\n",
            "63/63 - 9s - loss: 0.2708 - accuracy: 0.9459 - val_loss: 1.0131 - val_accuracy: 0.7500 - 9s/epoch - 141ms/step\n",
            "Epoch 29/50\n",
            "63/63 - 9s - loss: 0.2258 - accuracy: 0.9479 - val_loss: 1.1705 - val_accuracy: 0.6538 - 9s/epoch - 138ms/step\n",
            "Epoch 30/50\n",
            "63/63 - 8s - loss: 0.1548 - accuracy: 0.9519 - val_loss: 0.9831 - val_accuracy: 0.7692 - 8s/epoch - 123ms/step\n",
            "Epoch 31/50\n",
            "63/63 - 9s - loss: 0.2521 - accuracy: 0.9439 - val_loss: 1.1115 - val_accuracy: 0.7885 - 9s/epoch - 139ms/step\n",
            "Epoch 32/50\n",
            "63/63 - 9s - loss: 0.1523 - accuracy: 0.9519 - val_loss: 0.8540 - val_accuracy: 0.8077 - 9s/epoch - 141ms/step\n",
            "Epoch 33/50\n",
            "63/63 - 8s - loss: 0.1326 - accuracy: 0.9579 - val_loss: 1.1624 - val_accuracy: 0.7885 - 8s/epoch - 125ms/step\n",
            "Epoch 34/50\n",
            "63/63 - 9s - loss: 0.1627 - accuracy: 0.9639 - val_loss: 0.7172 - val_accuracy: 0.7692 - 9s/epoch - 142ms/step\n",
            "Epoch 35/50\n",
            "63/63 - 9s - loss: 0.0740 - accuracy: 0.9739 - val_loss: 1.0819 - val_accuracy: 0.7500 - 9s/epoch - 143ms/step\n",
            "Epoch 36/50\n",
            "63/63 - 8s - loss: 0.0725 - accuracy: 0.9800 - val_loss: 0.6258 - val_accuracy: 0.7885 - 8s/epoch - 124ms/step\n",
            "Epoch 37/50\n",
            "63/63 - 9s - loss: 0.0568 - accuracy: 0.9880 - val_loss: 0.5282 - val_accuracy: 0.8462 - 9s/epoch - 144ms/step\n",
            "Epoch 38/50\n",
            "63/63 - 9s - loss: 0.1302 - accuracy: 0.9679 - val_loss: 0.9431 - val_accuracy: 0.8846 - 9s/epoch - 149ms/step\n",
            "Epoch 39/50\n",
            "63/63 - 8s - loss: 0.1830 - accuracy: 0.9579 - val_loss: 1.0406 - val_accuracy: 0.7692 - 8s/epoch - 120ms/step\n",
            "Epoch 40/50\n",
            "63/63 - 9s - loss: 0.1607 - accuracy: 0.9579 - val_loss: 1.3160 - val_accuracy: 0.7885 - 9s/epoch - 140ms/step\n",
            "Epoch 41/50\n",
            "63/63 - 9s - loss: 0.0535 - accuracy: 0.9800 - val_loss: 1.3841 - val_accuracy: 0.7115 - 9s/epoch - 139ms/step\n",
            "Epoch 42/50\n",
            "63/63 - 8s - loss: 0.2337 - accuracy: 0.9579 - val_loss: 0.7872 - val_accuracy: 0.8846 - 8s/epoch - 123ms/step\n",
            "Epoch 43/50\n",
            "63/63 - 9s - loss: 0.2481 - accuracy: 0.9539 - val_loss: 1.0771 - val_accuracy: 0.7500 - 9s/epoch - 140ms/step\n",
            "Epoch 44/50\n",
            "63/63 - 10s - loss: 0.1762 - accuracy: 0.9519 - val_loss: 0.9940 - val_accuracy: 0.7885 - 10s/epoch - 159ms/step\n",
            "Epoch 45/50\n",
            "63/63 - 8s - loss: 0.2430 - accuracy: 0.9479 - val_loss: 1.0028 - val_accuracy: 0.7692 - 8s/epoch - 124ms/step\n",
            "Epoch 46/50\n",
            "63/63 - 9s - loss: 0.2269 - accuracy: 0.9359 - val_loss: 0.7873 - val_accuracy: 0.8077 - 9s/epoch - 143ms/step\n",
            "Epoch 47/50\n",
            "63/63 - 9s - loss: 0.1510 - accuracy: 0.9559 - val_loss: 0.4625 - val_accuracy: 0.9231 - 9s/epoch - 142ms/step\n",
            "Epoch 48/50\n",
            "63/63 - 8s - loss: 0.1471 - accuracy: 0.9639 - val_loss: 1.1742 - val_accuracy: 0.8462 - 8s/epoch - 124ms/step\n",
            "Epoch 49/50\n",
            "63/63 - 9s - loss: 0.1412 - accuracy: 0.9679 - val_loss: 0.5406 - val_accuracy: 0.8462 - 9s/epoch - 144ms/step\n",
            "Epoch 50/50\n",
            "63/63 - 9s - loss: 0.0579 - accuracy: 0.9800 - val_loss: 0.6550 - val_accuracy: 0.8462 - 9s/epoch - 143ms/step\n"
          ]
        }
      ]
    }
  ]
}