{
  "nbformat": 4,
  "nbformat_minor": 0,
  "metadata": {
    "colab": {
      "provenance": [],
      "authorship_tag": "ABX9TyMUrIPxOiSK47rBUbPCV3Pz",
      "include_colab_link": true
    },
    "kernelspec": {
      "name": "python3",
      "display_name": "Python 3"
    },
    "language_info": {
      "name": "python"
    }
  },
  "cells": [
    {
      "cell_type": "markdown",
      "metadata": {
        "id": "view-in-github",
        "colab_type": "text"
      },
      "source": [
        "<a href=\"https://colab.research.google.com/github/irham235/Belajar-machine-learning/blob/main/Splitting.ipynb\" target=\"_parent\"><img src=\"https://colab.research.google.com/assets/colab-badge.svg\" alt=\"Open In Colab\"/></a>"
      ]
    },
    {
      "cell_type": "markdown",
      "source": [
        "Memisahkan sebagian data dalam kolom menjadi fitur baru memberikan keuntungan antara lain: 1) meningkatkan performa model dengan menemukan informasi berharga; dan 2) membuat kita lebih mudah untuk melakukan proses binning dan grouping."
      ],
      "metadata": {
        "id": "h_4rZbfB4RXA"
      }
    },
    {
      "cell_type": "markdown",
      "source": [
        "Ada beberapa cara untuk melakukan fungsi split, tergantung pada karakteristik kolom. Mari kita ambil salah satu contoh kasus. Sebuah atribut dengan judul “ram_hardisk” yang berisi informasi mengenai besar ram dan penyimpanan dari harddisk. Kita dapat memisahkan atribut tersebut menjadi “ram” dan “storage” untuk memudahkan model mendapatkan informasi lebih banyak dari atribut baru."
      ],
      "metadata": {
        "id": "udlHtQPt4Zcn"
      }
    },
    {
      "cell_type": "markdown",
      "source": [
        "Contoh lain adalah kolom ‘full_name’. Misal kita hanya membutuhkan informasi nama hanya terdiri dari satu kata. Maka, kita dapat membagi atribut pada kolom nama dengan memisahkan data ‘first_name’ dan ‘last_name’ kemudian menggunakan salah satu atribut baru tersebut sesuai kebutuhan."
      ],
      "metadata": {
        "id": "wjxSI6cI4adw"
      }
    },
    {
      "cell_type": "code",
      "execution_count": 1,
      "metadata": {
        "colab": {
          "base_uri": "https://localhost:8080/"
        },
        "id": "-VL7nBwH4FWg",
        "outputId": "cae9be90-735c-4872-e170-9e905ba7b3d9"
      },
      "outputs": [
        {
          "output_type": "stream",
          "name": "stdout",
          "text": [
            "Machine Learning Developer di Indonesia :\n",
            "                Name  Age\n",
            "0  Isyana Saraswati   30\n",
            "1  Nicholas Saputra   36\n",
            "2    raisa Andriana   32\n",
            "\n",
            " Split kolom 'Name', lalu tambahkan kedua kolom : \n",
            "                Name  Age     First       Last\n",
            "0  Isyana Saraswati   30    Isyana  Saraswati\n",
            "1  Nicholas Saputra   36  Nicholas    Saputra\n",
            "2    raisa Andriana   32     raisa   Andriana\n"
          ]
        }
      ],
      "source": [
        "import pandas as pd\n",
        "\n",
        "Developer = pd.DataFrame({'Name': ['Isyana Saraswati', 'Nicholas Saputra', 'raisa Andriana'],\n",
        "        'Age':[30, 36, 32]})\n",
        "print(\"Machine Learning Developer di Indonesia :\\n\", Developer)\n",
        "\n",
        "Developer[['First', 'Last']] = Developer.Name.str.split(expand=True)\n",
        "print(\"\\n Split kolom 'Name', lalu tambahkan kedua kolom : \\n\", Developer)"
      ]
    }
  ]
}